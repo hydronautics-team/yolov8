{
 "cells": [
  {
   "cell_type": "code",
   "execution_count": 87,
   "metadata": {},
   "outputs": [],
   "source": [
    "import json\n",
    "import random\n",
    "from pathlib import Path\n",
    "import yaml\n",
    "import shutil"
   ]
  },
  {
   "cell_type": "code",
   "execution_count": 88,
   "metadata": {},
   "outputs": [],
   "source": [
    "RAW_DATA_JSON = \"dataset/raw_blender/bboxes.json\"\n",
    "RAW_DATA_IMAGES = \"dataset/raw_blender/results\"\n",
    "LABELS2ID = {'circle': 0, 'square': 1, 'triangle': 2, 'hoop': 3, 'gate': 4, 'Target circle': 5}\n",
    "NUM_CLASSES = len(LABELS2ID)\n",
    "IMAGE_WIDTH = 640\n",
    "IMAGE_HEIGHT = 480\n",
    "TEST_SIZE = 0.05\n",
    "VAL_SIZE = 0.15\n",
    "\n",
    "annotations = json.load(open(RAW_DATA_JSON))"
   ]
  },
  {
   "cell_type": "code",
   "execution_count": 89,
   "metadata": {},
   "outputs": [
    {
     "data": {
      "text/plain": [
       "10000"
      ]
     },
     "execution_count": 89,
     "metadata": {},
     "output_type": "execute_result"
    }
   ],
   "source": [
    "len(annotations['ImageBboxes'])"
   ]
  },
  {
   "cell_type": "code",
   "execution_count": 90,
   "metadata": {},
   "outputs": [
    {
     "data": {
      "text/plain": [
       "{'image_name': 'image_0.jpg',\n",
       " 'bboxes': [{'x': 201,\n",
       "   'y': 287,\n",
       "   'width': 81,\n",
       "   'height': 8,\n",
       "   'color': 'purple',\n",
       "   'type': 'triangle'},\n",
       "  {'x': 626,\n",
       "   'y': 377,\n",
       "   'width': 14,\n",
       "   'height': 103,\n",
       "   'color': 'black',\n",
       "   'type': 'hoop'},\n",
       "  {'x': 0,\n",
       "   'y': 293,\n",
       "   'width': 79,\n",
       "   'height': 12,\n",
       "   'color': 'green',\n",
       "   'type': 'square'},\n",
       "  {'x': 426,\n",
       "   'y': 325,\n",
       "   'width': 101,\n",
       "   'height': 13,\n",
       "   'color': 'red',\n",
       "   'type': 'Target circle'}]}"
      ]
     },
     "execution_count": 90,
     "metadata": {},
     "output_type": "execute_result"
    }
   ],
   "source": [
    "annotations['ImageBboxes'][0]"
   ]
  },
  {
   "cell_type": "code",
   "execution_count": 91,
   "metadata": {},
   "outputs": [],
   "source": [
    "def to_yolo(annotations):\n",
    "    yolo_annotations = []\n",
    "    for image in annotations:\n",
    "        image_annotations = []\n",
    "        image_name = image['image_name']\n",
    "        for bbox in image['bboxes']:\n",
    "            label = bbox['type']\n",
    "            x, y, w, h = bbox['x'], bbox['y'], bbox['width'], bbox['height']\n",
    "            center_x, center_y = (x + w / 2) / IMAGE_WIDTH, (y + h / 2) / IMAGE_HEIGHT\n",
    "            image_annotations.append([LABELS2ID[label], center_x, center_y, w / IMAGE_WIDTH, h / IMAGE_HEIGHT])\n",
    "        yolo_annotations.append([image_name, image_annotations])\n",
    "    return yolo_annotations"
   ]
  },
  {
   "cell_type": "code",
   "execution_count": 92,
   "metadata": {},
   "outputs": [],
   "source": [
    "yolo_annotations = to_yolo(annotations['ImageBboxes'])"
   ]
  },
  {
   "cell_type": "code",
   "execution_count": 93,
   "metadata": {},
   "outputs": [
    {
     "data": {
      "text/plain": [
       "10000"
      ]
     },
     "execution_count": 93,
     "metadata": {},
     "output_type": "execute_result"
    }
   ],
   "source": [
    "len(yolo_annotations)"
   ]
  },
  {
   "cell_type": "code",
   "execution_count": 94,
   "metadata": {},
   "outputs": [
    {
     "data": {
      "text/plain": [
       "['image_0.jpg',\n",
       " [[2, 0.37734375, 0.60625, 0.1265625, 0.016666666666666666],\n",
       "  [3, 0.9890625, 0.8927083333333333, 0.021875, 0.21458333333333332],\n",
       "  [1, 0.06171875, 0.6229166666666667, 0.1234375, 0.025],\n",
       "  [5, 0.74453125, 0.690625, 0.1578125, 0.027083333333333334]]]"
      ]
     },
     "execution_count": 94,
     "metadata": {},
     "output_type": "execute_result"
    }
   ],
   "source": [
    "yolo_annotations[0]"
   ]
  },
  {
   "cell_type": "code",
   "execution_count": 95,
   "metadata": {},
   "outputs": [],
   "source": [
    "def split_annotations(annotations, test_size=TEST_SIZE, val_size=VAL_SIZE):\n",
    "    random.shuffle(yolo_annotations)\n",
    "    test_annotations = yolo_annotations[:int(len(yolo_annotations) * test_size)]\n",
    "    val_annotations = yolo_annotations[int(\n",
    "        len(yolo_annotations) * test_size):int(len(yolo_annotations) * (val_size + test_size))]\n",
    "    train_annotations = yolo_annotations[int(len(yolo_annotations) * (val_size + test_size)):]\n",
    "    return train_annotations, val_annotations, test_annotations"
   ]
  },
  {
   "cell_type": "code",
   "execution_count": 96,
   "metadata": {},
   "outputs": [],
   "source": [
    "train_annotations, val_annotations, test_annotations = split_annotations(yolo_annotations)"
   ]
  },
  {
   "cell_type": "code",
   "execution_count": 97,
   "metadata": {},
   "outputs": [
    {
     "data": {
      "text/plain": [
       "(8000, 1500, 500)"
      ]
     },
     "execution_count": 97,
     "metadata": {},
     "output_type": "execute_result"
    }
   ],
   "source": [
    "len(train_annotations), len(val_annotations), len(test_annotations)"
   ]
  },
  {
   "cell_type": "code",
   "execution_count": 98,
   "metadata": {},
   "outputs": [],
   "source": [
    "def save_yolo(annotations, images_folder, output_folder, dataset_name, subset):\n",
    "    images_folder = Path(images_folder)\n",
    "    output_folder = Path(output_folder) / dataset_name / subset\n",
    "    output_folder.mkdir(parents=True, exist_ok=True)\n",
    "    out_images_folder = output_folder / \"images\"\n",
    "    out_images_folder.mkdir(parents=True, exist_ok=True)\n",
    "    out_labels_folder = output_folder / \"labels\"\n",
    "    out_labels_folder.mkdir(parents=True, exist_ok=True)\n",
    "    for image_name, bboxes in annotations:\n",
    "        shutil.copy(images_folder / image_name, out_images_folder / image_name)\n",
    "        with open(out_labels_folder / (image_name.replace(\".jpg\", \".txt\")), \"w\") as f:\n",
    "            for bbox in bboxes:\n",
    "                f.write(\" \".join([str(x) for x in bbox]) + \"\\n\")"
   ]
  },
  {
   "cell_type": "code",
   "execution_count": 99,
   "metadata": {},
   "outputs": [],
   "source": [
    "# train: ../train/\n",
    "# val: ../val/\n",
    "# test: ../test/\n",
    "# \n",
    "# nc: NUM_CLASSES\n",
    "# names: \n",
    "\n",
    "def create_yolo_yaml(train_path, val_path, test_path, num_classes, labels, save_path):\n",
    "    save_path = Path(save_path)\n",
    "    save_path.mkdir(parents=True, exist_ok=True)\n",
    "    out_yaml_path = save_path / \"data.yaml\"\n",
    "    yolo_meta = {'train': train_path, 'val': val_path, 'test': test_path, 'nc': num_classes, 'names': labels}\n",
    "    with open(out_yaml_path, 'w') as yaml_file:\n",
    "        yaml.dump(yolo_meta, yaml_file)\n"
   ]
  },
  {
   "cell_type": "code",
   "execution_count": 100,
   "metadata": {},
   "outputs": [],
   "source": [
    "save_yolo(train_annotations, RAW_DATA_IMAGES, \"dataset\", \"blender\", \"train\")\n",
    "save_yolo(val_annotations, RAW_DATA_IMAGES, \"dataset\", \"blender\", \"val\")\n",
    "save_yolo(test_annotations, RAW_DATA_IMAGES, \"dataset\", \"blender\", \"test\")"
   ]
  },
  {
   "cell_type": "code",
   "execution_count": 101,
   "metadata": {},
   "outputs": [],
   "source": [
    "create_yolo_yaml(\"dataset/blender/train/\", \"dataset/blender/val/\", \"dataset/blender/test\", NUM_CLASSES, list(LABELS2ID.keys()), \"dataset/blender\")"
   ]
  },
  {
   "cell_type": "code",
   "execution_count": null,
   "metadata": {},
   "outputs": [],
   "source": []
  }
 ],
 "metadata": {
  "kernelspec": {
   "display_name": "yolov8-ngANfQ94",
   "language": "python",
   "name": "python3"
  },
  "language_info": {
   "codemirror_mode": {
    "name": "ipython",
    "version": 3
   },
   "file_extension": ".py",
   "mimetype": "text/x-python",
   "name": "python",
   "nbconvert_exporter": "python",
   "pygments_lexer": "ipython3",
   "version": "3.10.6"
  },
  "orig_nbformat": 4,
  "vscode": {
   "interpreter": {
    "hash": "edb8ef26c030466088258826e136f4e28e49e9ca2a2f024063c5c2e1784b88c7"
   }
  }
 },
 "nbformat": 4,
 "nbformat_minor": 2
}
